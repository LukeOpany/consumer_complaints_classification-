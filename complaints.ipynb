{
 "cells": [
  {
   "cell_type": "code",
   "execution_count": 1,
   "id": "4d362b9d",
   "metadata": {},
   "outputs": [],
   "source": [
    "import matplotlib.pyplot as plt\n",
    "import pandas as pd\n",
    "import numpy as np\n",
    "import seaborn as sns\n",
    "%matplotlib inline"
   ]
  },
  {
   "cell_type": "code",
   "execution_count": 4,
   "id": "ed04fdb5",
   "metadata": {},
   "outputs": [],
   "source": [
    "data = pd.read_csv('/Users/lukeopany/Documents/consumer complaints/consumercomplaints.csv')"
   ]
  },
  {
   "cell_type": "code",
   "execution_count": 5,
   "id": "b74853b0",
   "metadata": {},
   "outputs": [
    {
     "name": "stdout",
     "output_type": "stream",
     "text": [
      "<class 'pandas.core.frame.DataFrame'>\n",
      "RangeIndex: 3101969 entries, 0 to 3101968\n",
      "Data columns (total 7 columns):\n",
      " #   Column                        Non-Null Count    Dtype \n",
      "---  ------                        --------------    ----- \n",
      " 0   Unnamed: 0                    3101969 non-null  int64 \n",
      " 1   Date received                 3101969 non-null  object\n",
      " 2   Product                       3101969 non-null  object\n",
      " 3   Sub-product                   2866675 non-null  object\n",
      " 4   Issue                         3101969 non-null  object\n",
      " 5   Sub-issue                     2418614 non-null  object\n",
      " 6   Consumer complaint narrative  1113992 non-null  object\n",
      "dtypes: int64(1), object(6)\n",
      "memory usage: 165.7+ MB\n"
     ]
    }
   ],
   "source": [
    "data.info(show_counts=True)"
   ]
  },
  {
   "cell_type": "code",
   "execution_count": 6,
   "id": "600b8f34",
   "metadata": {},
   "outputs": [
    {
     "data": {
      "text/html": [
       "<div>\n",
       "<style scoped>\n",
       "    .dataframe tbody tr th:only-of-type {\n",
       "        vertical-align: middle;\n",
       "    }\n",
       "\n",
       "    .dataframe tbody tr th {\n",
       "        vertical-align: top;\n",
       "    }\n",
       "\n",
       "    .dataframe thead th {\n",
       "        text-align: right;\n",
       "    }\n",
       "</style>\n",
       "<table border=\"1\" class=\"dataframe\">\n",
       "  <thead>\n",
       "    <tr style=\"text-align: right;\">\n",
       "      <th></th>\n",
       "      <th>Unnamed: 0</th>\n",
       "    </tr>\n",
       "  </thead>\n",
       "  <tbody>\n",
       "    <tr>\n",
       "      <th>count</th>\n",
       "      <td>3.101969e+06</td>\n",
       "    </tr>\n",
       "    <tr>\n",
       "      <th>mean</th>\n",
       "      <td>1.550984e+06</td>\n",
       "    </tr>\n",
       "    <tr>\n",
       "      <th>std</th>\n",
       "      <td>8.954615e+05</td>\n",
       "    </tr>\n",
       "    <tr>\n",
       "      <th>min</th>\n",
       "      <td>0.000000e+00</td>\n",
       "    </tr>\n",
       "    <tr>\n",
       "      <th>25%</th>\n",
       "      <td>7.754920e+05</td>\n",
       "    </tr>\n",
       "    <tr>\n",
       "      <th>50%</th>\n",
       "      <td>1.550984e+06</td>\n",
       "    </tr>\n",
       "    <tr>\n",
       "      <th>75%</th>\n",
       "      <td>2.326476e+06</td>\n",
       "    </tr>\n",
       "    <tr>\n",
       "      <th>max</th>\n",
       "      <td>3.101968e+06</td>\n",
       "    </tr>\n",
       "  </tbody>\n",
       "</table>\n",
       "</div>"
      ],
      "text/plain": [
       "         Unnamed: 0\n",
       "count  3.101969e+06\n",
       "mean   1.550984e+06\n",
       "std    8.954615e+05\n",
       "min    0.000000e+00\n",
       "25%    7.754920e+05\n",
       "50%    1.550984e+06\n",
       "75%    2.326476e+06\n",
       "max    3.101968e+06"
      ]
     },
     "execution_count": 6,
     "metadata": {},
     "output_type": "execute_result"
    }
   ],
   "source": [
    "data.describe()"
   ]
  },
  {
   "cell_type": "code",
   "execution_count": 11,
   "id": "26cdcda0",
   "metadata": {},
   "outputs": [
    {
     "name": "stdout",
     "output_type": "stream",
     "text": [
      "Shape of duplicates: (0, 7)\n"
     ]
    }
   ],
   "source": [
    "duplicates = data[data.duplicated()]\n",
    "print(f\"Shape of duplicates: {duplicates.shape}\")\n",
    "if len(duplicates) > 0:\n",
    "    display(duplicates.head())"
   ]
  },
  {
   "cell_type": "code",
   "execution_count": 12,
   "id": "916f6356",
   "metadata": {},
   "outputs": [],
   "source": [
    "#Dropped the Unnamed: 0 column as it is not needed\n",
    "data = data.drop('Unnamed: 0', axis=1)"
   ]
  },
  {
   "cell_type": "code",
   "execution_count": 7,
   "id": "f314b92a",
   "metadata": {},
   "outputs": [
    {
     "data": {
      "text/html": [
       "<div>\n",
       "<style scoped>\n",
       "    .dataframe tbody tr th:only-of-type {\n",
       "        vertical-align: middle;\n",
       "    }\n",
       "\n",
       "    .dataframe tbody tr th {\n",
       "        vertical-align: top;\n",
       "    }\n",
       "\n",
       "    .dataframe thead th {\n",
       "        text-align: right;\n",
       "    }\n",
       "</style>\n",
       "<table border=\"1\" class=\"dataframe\">\n",
       "  <thead>\n",
       "    <tr style=\"text-align: right;\">\n",
       "      <th></th>\n",
       "      <th>Unnamed: 0</th>\n",
       "      <th>Date received</th>\n",
       "      <th>Product</th>\n",
       "      <th>Sub-product</th>\n",
       "      <th>Issue</th>\n",
       "      <th>Sub-issue</th>\n",
       "      <th>Consumer complaint narrative</th>\n",
       "    </tr>\n",
       "  </thead>\n",
       "  <tbody>\n",
       "    <tr>\n",
       "      <th>0</th>\n",
       "      <td>0</td>\n",
       "      <td>2022-11-11</td>\n",
       "      <td>Mortgage</td>\n",
       "      <td>Conventional home mortgage</td>\n",
       "      <td>Trouble during payment process</td>\n",
       "      <td>NaN</td>\n",
       "      <td>NaN</td>\n",
       "    </tr>\n",
       "    <tr>\n",
       "      <th>1</th>\n",
       "      <td>1</td>\n",
       "      <td>2022-11-23</td>\n",
       "      <td>Credit reporting, credit repair services, or o...</td>\n",
       "      <td>Credit reporting</td>\n",
       "      <td>Improper use of your report</td>\n",
       "      <td>Reporting company used your report improperly</td>\n",
       "      <td>NaN</td>\n",
       "    </tr>\n",
       "    <tr>\n",
       "      <th>2</th>\n",
       "      <td>2</td>\n",
       "      <td>2022-11-16</td>\n",
       "      <td>Mortgage</td>\n",
       "      <td>VA mortgage</td>\n",
       "      <td>Trouble during payment process</td>\n",
       "      <td>NaN</td>\n",
       "      <td>NaN</td>\n",
       "    </tr>\n",
       "    <tr>\n",
       "      <th>3</th>\n",
       "      <td>3</td>\n",
       "      <td>2022-11-15</td>\n",
       "      <td>Checking or savings account</td>\n",
       "      <td>Checking account</td>\n",
       "      <td>Managing an account</td>\n",
       "      <td>Fee problem</td>\n",
       "      <td>Hi, I have been banking with Wells Fargo for o...</td>\n",
       "    </tr>\n",
       "    <tr>\n",
       "      <th>4</th>\n",
       "      <td>4</td>\n",
       "      <td>2022-11-07</td>\n",
       "      <td>Mortgage</td>\n",
       "      <td>Other type of mortgage</td>\n",
       "      <td>Trouble during payment process</td>\n",
       "      <td>NaN</td>\n",
       "      <td>NaN</td>\n",
       "    </tr>\n",
       "  </tbody>\n",
       "</table>\n",
       "</div>"
      ],
      "text/plain": [
       "   Unnamed: 0 Date received  \\\n",
       "0           0    2022-11-11   \n",
       "1           1    2022-11-23   \n",
       "2           2    2022-11-16   \n",
       "3           3    2022-11-15   \n",
       "4           4    2022-11-07   \n",
       "\n",
       "                                             Product  \\\n",
       "0                                           Mortgage   \n",
       "1  Credit reporting, credit repair services, or o...   \n",
       "2                                           Mortgage   \n",
       "3                        Checking or savings account   \n",
       "4                                           Mortgage   \n",
       "\n",
       "                  Sub-product                           Issue  \\\n",
       "0  Conventional home mortgage  Trouble during payment process   \n",
       "1            Credit reporting     Improper use of your report   \n",
       "2                 VA mortgage  Trouble during payment process   \n",
       "3            Checking account             Managing an account   \n",
       "4      Other type of mortgage  Trouble during payment process   \n",
       "\n",
       "                                       Sub-issue  \\\n",
       "0                                            NaN   \n",
       "1  Reporting company used your report improperly   \n",
       "2                                            NaN   \n",
       "3                                    Fee problem   \n",
       "4                                            NaN   \n",
       "\n",
       "                        Consumer complaint narrative  \n",
       "0                                                NaN  \n",
       "1                                                NaN  \n",
       "2                                                NaN  \n",
       "3  Hi, I have been banking with Wells Fargo for o...  \n",
       "4                                                NaN  "
      ]
     },
     "execution_count": 7,
     "metadata": {},
     "output_type": "execute_result"
    }
   ],
   "source": [
    "data.head(5)"
   ]
  },
  {
   "cell_type": "code",
   "execution_count": 13,
   "id": "694ff695",
   "metadata": {},
   "outputs": [],
   "source": [
    "data = data.dropna()"
   ]
  },
  {
   "cell_type": "code",
   "execution_count": 15,
   "id": "790849ba",
   "metadata": {},
   "outputs": [
    {
     "name": "stdout",
     "output_type": "stream",
     "text": [
      "<class 'pandas.core.frame.DataFrame'>\n",
      "Index: 887808 entries, 3 to 3101964\n",
      "Data columns (total 7 columns):\n",
      " #   Column                        Non-Null Count   Dtype \n",
      "---  ------                        --------------   ----- \n",
      " 0   Unnamed: 0                    887808 non-null  int64 \n",
      " 1   Date received                 887808 non-null  object\n",
      " 2   Product                       887808 non-null  object\n",
      " 3   Sub-product                   887808 non-null  object\n",
      " 4   Issue                         887808 non-null  object\n",
      " 5   Sub-issue                     887808 non-null  object\n",
      " 6   Consumer complaint narrative  887808 non-null  object\n",
      "dtypes: int64(1), object(6)\n",
      "memory usage: 54.2+ MB\n"
     ]
    }
   ],
   "source": [
    "data.info()"
   ]
  },
  {
   "cell_type": "code",
   "execution_count": 27,
   "id": "7fbc6e01",
   "metadata": {},
   "outputs": [
    {
     "data": {
      "text/plain": [
       "Product\n",
       "Credit reporting, credit repair services, or other personal consumer reports    507582\n",
       "Debt collection                                                                 192045\n",
       "Credit card or prepaid card                                                      80410\n",
       "Checking or savings account                                                      54192\n",
       "Student loan                                                                     32697\n",
       "Vehicle loan or lease                                                            19874\n",
       "Payday loan, title loan, or personal loan                                         1008\n",
       "Name: count, dtype: int64"
      ]
     },
     "execution_count": 27,
     "metadata": {},
     "output_type": "execute_result"
    }
   ],
   "source": [
    "data['Product'].value_counts()"
   ]
  },
  {
   "cell_type": "code",
   "execution_count": null,
   "id": "cfd8f978",
   "metadata": {},
   "outputs": [
    {
     "data": {
      "text/html": [
       "<div>\n",
       "<style scoped>\n",
       "    .dataframe tbody tr th:only-of-type {\n",
       "        vertical-align: middle;\n",
       "    }\n",
       "\n",
       "    .dataframe tbody tr th {\n",
       "        vertical-align: top;\n",
       "    }\n",
       "\n",
       "    .dataframe thead th {\n",
       "        text-align: right;\n",
       "    }\n",
       "</style>\n",
       "<table border=\"1\" class=\"dataframe\">\n",
       "  <thead>\n",
       "    <tr style=\"text-align: right;\">\n",
       "      <th></th>\n",
       "      <th>Unnamed: 0</th>\n",
       "      <th>Date received</th>\n",
       "      <th>Product</th>\n",
       "      <th>Sub-product</th>\n",
       "      <th>Issue</th>\n",
       "      <th>Sub-issue</th>\n",
       "      <th>Consumer complaint narrative</th>\n",
       "    </tr>\n",
       "  </thead>\n",
       "  <tbody>\n",
       "    <tr>\n",
       "      <th>3</th>\n",
       "      <td>3</td>\n",
       "      <td>2022-11-15</td>\n",
       "      <td>Checking or savings account</td>\n",
       "      <td>Checking account</td>\n",
       "      <td>Managing an account</td>\n",
       "      <td>Fee problem</td>\n",
       "      <td>Hi, I have been banking with Wells Fargo for o...</td>\n",
       "    </tr>\n",
       "    <tr>\n",
       "      <th>11</th>\n",
       "      <td>11</td>\n",
       "      <td>2022-11-09</td>\n",
       "      <td>Debt collection</td>\n",
       "      <td>Other debt</td>\n",
       "      <td>False statements or representation</td>\n",
       "      <td>Indicated you were committing crime by not pay...</td>\n",
       "      <td>XXXX is attempting to collect funds for Valuat...</td>\n",
       "    </tr>\n",
       "    <tr>\n",
       "      <th>15</th>\n",
       "      <td>15</td>\n",
       "      <td>2022-11-14</td>\n",
       "      <td>Credit reporting, credit repair services, or o...</td>\n",
       "      <td>Credit reporting</td>\n",
       "      <td>Incorrect information on your report</td>\n",
       "      <td>Account information incorrect</td>\n",
       "      <td>Today I called to get my balance and reset my ...</td>\n",
       "    </tr>\n",
       "    <tr>\n",
       "      <th>51</th>\n",
       "      <td>51</td>\n",
       "      <td>2022-10-12</td>\n",
       "      <td>Credit reporting, credit repair services, or o...</td>\n",
       "      <td>Credit reporting</td>\n",
       "      <td>Problem with a credit reporting company's inve...</td>\n",
       "      <td>Their investigation did not fix an error on yo...</td>\n",
       "      <td>The Federal Trade Commission Bureau of Consume...</td>\n",
       "    </tr>\n",
       "    <tr>\n",
       "      <th>72</th>\n",
       "      <td>72</td>\n",
       "      <td>2022-10-09</td>\n",
       "      <td>Credit reporting, credit repair services, or o...</td>\n",
       "      <td>Credit reporting</td>\n",
       "      <td>Problem with a credit reporting company's inve...</td>\n",
       "      <td>Difficulty submitting a dispute or getting inf...</td>\n",
       "      <td>Ive mailed police report called been hung up o...</td>\n",
       "    </tr>\n",
       "  </tbody>\n",
       "</table>\n",
       "</div>"
      ],
      "text/plain": [
       "    Unnamed: 0 Date received  \\\n",
       "3            3    2022-11-15   \n",
       "11          11    2022-11-09   \n",
       "15          15    2022-11-14   \n",
       "51          51    2022-10-12   \n",
       "72          72    2022-10-09   \n",
       "\n",
       "                                              Product       Sub-product  \\\n",
       "3                         Checking or savings account  Checking account   \n",
       "11                                    Debt collection        Other debt   \n",
       "15  Credit reporting, credit repair services, or o...  Credit reporting   \n",
       "51  Credit reporting, credit repair services, or o...  Credit reporting   \n",
       "72  Credit reporting, credit repair services, or o...  Credit reporting   \n",
       "\n",
       "                                                Issue  \\\n",
       "3                                 Managing an account   \n",
       "11                 False statements or representation   \n",
       "15               Incorrect information on your report   \n",
       "51  Problem with a credit reporting company's inve...   \n",
       "72  Problem with a credit reporting company's inve...   \n",
       "\n",
       "                                            Sub-issue  \\\n",
       "3                                         Fee problem   \n",
       "11  Indicated you were committing crime by not pay...   \n",
       "15                      Account information incorrect   \n",
       "51  Their investigation did not fix an error on yo...   \n",
       "72  Difficulty submitting a dispute or getting inf...   \n",
       "\n",
       "                         Consumer complaint narrative  \n",
       "3   Hi, I have been banking with Wells Fargo for o...  \n",
       "11  XXXX is attempting to collect funds for Valuat...  \n",
       "15  Today I called to get my balance and reset my ...  \n",
       "51  The Federal Trade Commission Bureau of Consume...  \n",
       "72  Ive mailed police report called been hung up o...  "
      ]
     },
     "execution_count": 30,
     "metadata": {},
     "output_type": "execute_result"
    }
   ],
   "source": [
    "data.head(5)"
   ]
  },
  {
   "cell_type": "code",
   "execution_count": 8,
   "id": "fbdab307",
   "metadata": {},
   "outputs": [
    {
     "name": "stdout",
     "output_type": "stream",
     "text": [
      "Product\n",
      "Credit reporting, credit repair services, or other personal consumer reports    1432096\n",
      "Debt collection                                                                  452620\n",
      "Mortgage                                                                         365181\n",
      "Credit card or prepaid card                                                      165452\n",
      "Checking or savings account                                                      141849\n",
      "Credit reporting                                                                 140430\n",
      "Credit card                                                                       89190\n",
      "Bank account or service                                                           86206\n",
      "Student loan                                                                      71530\n",
      "Money transfer, virtual currency, or money service                                47641\n",
      "Vehicle loan or lease                                                             37161\n",
      "Consumer Loan                                                                     31596\n",
      "Payday loan, title loan, or personal loan                                         25225\n",
      "Payday loan                                                                        5543\n",
      "Money transfers                                                                    5354\n",
      "Prepaid card                                                                       3819\n",
      "Other financial service                                                            1058\n",
      "Virtual currency                                                                     18\n",
      "Name: count, dtype: int64\n",
      "Imbalance ratio: 79560.89:1\n"
     ]
    }
   ],
   "source": [
    "#Checking for class imbalance for the Product column\n",
    "#visualized, \n",
    "class_counts = data['Product'].value_counts()\n",
    "print(class_counts)\n",
    "print(f\"Imbalance ratio: {class_counts.max() / class_counts.min():.2f}:1\")\n",
    "\n"
   ]
  },
  {
   "cell_type": "code",
   "execution_count": 36,
   "id": "03317ac7",
   "metadata": {},
   "outputs": [
    {
     "data": {
      "image/png": "[encoded data removed]",
      "text/plain": [
       "<Figure size 1000x600 with 1 Axes>"
      ]
     },
     "metadata": {},
     "output_type": "display_data"
    }
   ],
   "source": [
    "data ['Product'].value_counts().plot(kind='bar', figsize=(10,6))\n",
    "plt.title('Distribution of Product Categories')\n",
    "plt.xlabel('Product Category')\n",
    "plt.ylabel('Number of Complaints')\n",
    "plt.xticks(rotation=45)\n",
    "plt.show()"
   ]
  },
  {
   "cell_type": "code",
   "execution_count": 39,
   "id": "765bfd7f",
   "metadata": {},
   "outputs": [
    {
     "data": {
      "image/png": "[encoded data removed]",
      "text/plain": [
       "<Figure size 640x480 with 1 Axes>"
      ]
     },
     "metadata": {},
     "output_type": "display_data"
    }
   ],
   "source": [
    "class_counts.plot(kind='bar')\n",
    "plt.title('Class Distribution')\n",
    "plt.show()"
   ]
  },
  {
   "cell_type": "code",
   "execution_count": 41,
   "id": "f006436e",
   "metadata": {},
   "outputs": [
    {
     "name": "stdout",
     "output_type": "stream",
     "text": [
      "Product\n",
      "Credit reporting, credit repair services, or other personal consumer reports    57.172497\n",
      "Debt collection                                                                 21.631366\n",
      "Credit card or prepaid card                                                      9.057138\n",
      "Checking or savings account                                                      6.104022\n",
      "Student loan                                                                     3.682891\n",
      "Vehicle loan or lease                                                            2.238547\n",
      "Payday loan, title loan, or personal loan                                        0.113538\n",
      "Name: proportion, dtype: float64\n"
     ]
    }
   ],
   "source": [
    "percentages = data['Product'].value_counts(normalize=True) * 100\n",
    "print(percentages)"
   ]
  },
  {
   "cell_type": "code",
   "execution_count": 42,
   "id": "62fdb296",
   "metadata": {},
   "outputs": [
    {
     "data": {
      "text/html": [
       "<div>\n",
       "<style scoped>\n",
       "    .dataframe tbody tr th:only-of-type {\n",
       "        vertical-align: middle;\n",
       "    }\n",
       "\n",
       "    .dataframe tbody tr th {\n",
       "        vertical-align: top;\n",
       "    }\n",
       "\n",
       "    .dataframe thead th {\n",
       "        text-align: right;\n",
       "    }\n",
       "</style>\n",
       "<table border=\"1\" class=\"dataframe\">\n",
       "  <thead>\n",
       "    <tr style=\"text-align: right;\">\n",
       "      <th></th>\n",
       "      <th>Unnamed: 0</th>\n",
       "      <th>Date received</th>\n",
       "      <th>Product</th>\n",
       "      <th>Sub-product</th>\n",
       "      <th>Issue</th>\n",
       "      <th>Sub-issue</th>\n",
       "      <th>Consumer complaint narrative</th>\n",
       "    </tr>\n",
       "  </thead>\n",
       "  <tbody>\n",
       "    <tr>\n",
       "      <th>3</th>\n",
       "      <td>3</td>\n",
       "      <td>2022-11-15</td>\n",
       "      <td>Checking or savings account</td>\n",
       "      <td>Checking account</td>\n",
       "      <td>Managing an account</td>\n",
       "      <td>Fee problem</td>\n",
       "      <td>Hi, I have been banking with Wells Fargo for o...</td>\n",
       "    </tr>\n",
       "    <tr>\n",
       "      <th>11</th>\n",
       "      <td>11</td>\n",
       "      <td>2022-11-09</td>\n",
       "      <td>Debt collection</td>\n",
       "      <td>Other debt</td>\n",
       "      <td>False statements or representation</td>\n",
       "      <td>Indicated you were committing crime by not pay...</td>\n",
       "      <td>XXXX is attempting to collect funds for Valuat...</td>\n",
       "    </tr>\n",
       "    <tr>\n",
       "      <th>15</th>\n",
       "      <td>15</td>\n",
       "      <td>2022-11-14</td>\n",
       "      <td>Credit reporting, credit repair services, or o...</td>\n",
       "      <td>Credit reporting</td>\n",
       "      <td>Incorrect information on your report</td>\n",
       "      <td>Account information incorrect</td>\n",
       "      <td>Today I called to get my balance and reset my ...</td>\n",
       "    </tr>\n",
       "    <tr>\n",
       "      <th>51</th>\n",
       "      <td>51</td>\n",
       "      <td>2022-10-12</td>\n",
       "      <td>Credit reporting, credit repair services, or o...</td>\n",
       "      <td>Credit reporting</td>\n",
       "      <td>Problem with a credit reporting company's inve...</td>\n",
       "      <td>Their investigation did not fix an error on yo...</td>\n",
       "      <td>The Federal Trade Commission Bureau of Consume...</td>\n",
       "    </tr>\n",
       "    <tr>\n",
       "      <th>72</th>\n",
       "      <td>72</td>\n",
       "      <td>2022-10-09</td>\n",
       "      <td>Credit reporting, credit repair services, or o...</td>\n",
       "      <td>Credit reporting</td>\n",
       "      <td>Problem with a credit reporting company's inve...</td>\n",
       "      <td>Difficulty submitting a dispute or getting inf...</td>\n",
       "      <td>Ive mailed police report called been hung up o...</td>\n",
       "    </tr>\n",
       "  </tbody>\n",
       "</table>\n",
       "</div>"
      ],
      "text/plain": [
       "    Unnamed: 0 Date received  \\\n",
       "3            3    2022-11-15   \n",
       "11          11    2022-11-09   \n",
       "15          15    2022-11-14   \n",
       "51          51    2022-10-12   \n",
       "72          72    2022-10-09   \n",
       "\n",
       "                                              Product       Sub-product  \\\n",
       "3                         Checking or savings account  Checking account   \n",
       "11                                    Debt collection        Other debt   \n",
       "15  Credit reporting, credit repair services, or o...  Credit reporting   \n",
       "51  Credit reporting, credit repair services, or o...  Credit reporting   \n",
       "72  Credit reporting, credit repair services, or o...  Credit reporting   \n",
       "\n",
       "                                                Issue  \\\n",
       "3                                 Managing an account   \n",
       "11                 False statements or representation   \n",
       "15               Incorrect information on your report   \n",
       "51  Problem with a credit reporting company's inve...   \n",
       "72  Problem with a credit reporting company's inve...   \n",
       "\n",
       "                                            Sub-issue  \\\n",
       "3                                         Fee problem   \n",
       "11  Indicated you were committing crime by not pay...   \n",
       "15                      Account information incorrect   \n",
       "51  Their investigation did not fix an error on yo...   \n",
       "72  Difficulty submitting a dispute or getting inf...   \n",
       "\n",
       "                         Consumer complaint narrative  \n",
       "3   Hi, I have been banking with Wells Fargo for o...  \n",
       "11  XXXX is attempting to collect funds for Valuat...  \n",
       "15  Today I called to get my balance and reset my ...  \n",
       "51  The Federal Trade Commission Bureau of Consume...  \n",
       "72  Ive mailed police report called been hung up o...  "
      ]
     },
     "execution_count": 42,
     "metadata": {},
     "output_type": "execute_result"
    }
   ],
   "source": [
    "data.head()"
   ]
  },
  {
   "cell_type": "code",
   "execution_count": 44,
   "id": "12e3a183",
   "metadata": {},
   "outputs": [],
   "source": [
    "from text_cleaner import clean, clean_dataframe_column"
   ]
  },
  {
   "cell_type": "code",
   "execution_count": null,
   "id": "4768d922",
   "metadata": {},
   "outputs": [],
   "source": [
    "!pip install nltk pandas"
   ]
  },
  {
   "cell_type": "code",
   "execution_count": null,
   "id": "527c7409",
   "metadata": {},
   "outputs": [],
   "source": [
    "#Data Preprocessing and Cleaning: using the function/texxt_cleaner.py file"
   ]
  },
  {
   "cell_type": "code",
   "execution_count": 15,
   "id": "d78760be",
   "metadata": {},
   "outputs": [
    {
     "name": "stderr",
     "output_type": "stream",
     "text": [
      "<>:11: SyntaxWarning: invalid escape sequence '\\['\n",
      "<>:12: SyntaxWarning: invalid escape sequence '\\S'\n",
      "<>:16: SyntaxWarning: invalid escape sequence '\\w'\n",
      "<>:11: SyntaxWarning: invalid escape sequence '\\['\n",
      "<>:12: SyntaxWarning: invalid escape sequence '\\S'\n",
      "<>:16: SyntaxWarning: invalid escape sequence '\\w'\n",
      "/var/folders/7l/9tv4v_3n66j8zq9dm5rg54rh0000gn/T/ipykernel_66143/3389717115.py:11: SyntaxWarning: invalid escape sequence '\\['\n",
      "  text = re.sub('\\[.*?\\]', '', text)\n",
      "/var/folders/7l/9tv4v_3n66j8zq9dm5rg54rh0000gn/T/ipykernel_66143/3389717115.py:12: SyntaxWarning: invalid escape sequence '\\S'\n",
      "  text = re.sub('https?://\\S+|www\\.\\S+', '', text)\n",
      "/var/folders/7l/9tv4v_3n66j8zq9dm5rg54rh0000gn/T/ipykernel_66143/3389717115.py:16: SyntaxWarning: invalid escape sequence '\\w'\n",
      "  text = re.sub('\\w*\\d\\w*', '', text)\n",
      "[nltk_data] Downloading package stopwords to\n",
      "[nltk_data]     /Users/lukeopany/nltk_data...\n",
      "[nltk_data]   Package stopwords is already up-to-date!\n"
     ]
    }
   ],
   "source": [
    "import nltk\n",
    "import re\n",
    "nltk.download('stopwords')\n",
    "stemmer = nltk.SnowballStemmer(\"english\")\n",
    "from nltk.corpus import stopwords\n",
    "import string\n",
    "stopword=set(stopwords.words('english'))\n",
    "\n",
    "def clean(text):\n",
    "    text = str(text).lower()\n",
    "    text = re.sub('\\[.*?\\]', '', text)\n",
    "    text = re.sub('https?://\\S+|www\\.\\S+', '', text)\n",
    "    text = re.sub('<.*?>+', '', text)\n",
    "    text = re.sub('[%s]' % re.escape(string.punctuation), '', text)\n",
    "    text = re.sub('\\n', '', text)\n",
    "    text = re.sub('\\w*\\d\\w*', '', text)\n",
    "    text = [word for word in text.split(' ') if word not in stopword]\n",
    "    text=\" \".join(text)\n",
    "    text = [stemmer.stem(word) for word in text.split(' ')]\n",
    "    text=\" \".join(text)\n",
    "    return text\n",
    "data['Consumer complaint narrative'] = data['Consumer complaint narrative'].apply(clean)"
   ]
  },
  {
   "cell_type": "code",
   "execution_count": 17,
   "id": "2e7c1599",
   "metadata": {},
   "outputs": [
    {
     "data": {
      "text/html": [
       "<div>\n",
       "<style scoped>\n",
       "    .dataframe tbody tr th:only-of-type {\n",
       "        vertical-align: middle;\n",
       "    }\n",
       "\n",
       "    .dataframe tbody tr th {\n",
       "        vertical-align: top;\n",
       "    }\n",
       "\n",
       "    .dataframe thead th {\n",
       "        text-align: right;\n",
       "    }\n",
       "</style>\n",
       "<table border=\"1\" class=\"dataframe\">\n",
       "  <thead>\n",
       "    <tr style=\"text-align: right;\">\n",
       "      <th></th>\n",
       "      <th>Consumer complaint narrative</th>\n",
       "      <th>Product</th>\n",
       "    </tr>\n",
       "  </thead>\n",
       "  <tbody>\n",
       "    <tr>\n",
       "      <th>3</th>\n",
       "      <td>hi bank well fargo decad within past  year gra...</td>\n",
       "      <td>Checking or savings account</td>\n",
       "    </tr>\n",
       "    <tr>\n",
       "      <th>11</th>\n",
       "      <td>xxxx attempt collect fund valuat servic provid...</td>\n",
       "      <td>Debt collection</td>\n",
       "    </tr>\n",
       "    <tr>\n",
       "      <th>15</th>\n",
       "      <td>today call get balanc reset password credit ca...</td>\n",
       "      <td>Credit reporting, credit repair services, or o...</td>\n",
       "    </tr>\n",
       "    <tr>\n",
       "      <th>51</th>\n",
       "      <td>feder trade commiss bureau consum protect rece...</td>\n",
       "      <td>Credit reporting, credit repair services, or o...</td>\n",
       "    </tr>\n",
       "    <tr>\n",
       "      <th>72</th>\n",
       "      <td>ive mail polic report call hung stall rep lie ...</td>\n",
       "      <td>Credit reporting, credit repair services, or o...</td>\n",
       "    </tr>\n",
       "    <tr>\n",
       "      <th>127</th>\n",
       "      <td>xxxx xxxx  debt collect agenc  constant harass...</td>\n",
       "      <td>Credit reporting, credit repair services, or o...</td>\n",
       "    </tr>\n",
       "    <tr>\n",
       "      <th>128</th>\n",
       "      <td>compani xxxx xxxxxxxx xxxx report inaccur inco...</td>\n",
       "      <td>Credit reporting, credit repair services, or o...</td>\n",
       "    </tr>\n",
       "    <tr>\n",
       "      <th>240</th>\n",
       "      <td>remov address asap inaccur input credit live s...</td>\n",
       "      <td>Credit reporting, credit repair services, or o...</td>\n",
       "    </tr>\n",
       "    <tr>\n",
       "      <th>311</th>\n",
       "      <td>auto loan error wife pass away tuesday  disput...</td>\n",
       "      <td>Debt collection</td>\n",
       "    </tr>\n",
       "    <tr>\n",
       "      <th>330</th>\n",
       "      <td>file multipl disput compani name xxxx xxxx cre...</td>\n",
       "      <td>Credit reporting, credit repair services, or o...</td>\n",
       "    </tr>\n",
       "  </tbody>\n",
       "</table>\n",
       "</div>"
      ],
      "text/plain": [
       "                          Consumer complaint narrative  \\\n",
       "3    hi bank well fargo decad within past  year gra...   \n",
       "11   xxxx attempt collect fund valuat servic provid...   \n",
       "15   today call get balanc reset password credit ca...   \n",
       "51   feder trade commiss bureau consum protect rece...   \n",
       "72   ive mail polic report call hung stall rep lie ...   \n",
       "127  xxxx xxxx  debt collect agenc  constant harass...   \n",
       "128  compani xxxx xxxxxxxx xxxx report inaccur inco...   \n",
       "240  remov address asap inaccur input credit live s...   \n",
       "311  auto loan error wife pass away tuesday  disput...   \n",
       "330  file multipl disput compani name xxxx xxxx cre...   \n",
       "\n",
       "                                               Product  \n",
       "3                          Checking or savings account  \n",
       "11                                     Debt collection  \n",
       "15   Credit reporting, credit repair services, or o...  \n",
       "51   Credit reporting, credit repair services, or o...  \n",
       "72   Credit reporting, credit repair services, or o...  \n",
       "127  Credit reporting, credit repair services, or o...  \n",
       "128  Credit reporting, credit repair services, or o...  \n",
       "240  Credit reporting, credit repair services, or o...  \n",
       "311                                    Debt collection  \n",
       "330  Credit reporting, credit repair services, or o...  "
      ]
     },
     "execution_count": 17,
     "metadata": {},
     "output_type": "execute_result"
    }
   ],
   "source": [
    "data[['Consumer complaint narrative', 'Product']].head(10)"
   ]
  },
  {
   "cell_type": "code",
   "execution_count": 18,
   "id": "42456e9c",
   "metadata": {},
   "outputs": [],
   "source": [
    "x = np.array(data['Consumer complaint narrative'])"
   ]
  },
  {
   "cell_type": "code",
   "execution_count": 19,
   "id": "f83b594d",
   "metadata": {},
   "outputs": [],
   "source": [
    "y = np.array(data['Product'])"
   ]
  },
  {
   "cell_type": "code",
   "execution_count": 25,
   "id": "28d2a4e1",
   "metadata": {},
   "outputs": [],
   "source": [
    "from sklearn.feature_extraction.text import CountVectorizer"
   ]
  },
  {
   "cell_type": "code",
   "execution_count": 26,
   "id": "e5b6b46f",
   "metadata": {},
   "outputs": [],
   "source": [
    "cv = CountVectorizer()\n",
    "X = cv.fit_transform(x)  # Fit the model and transform the data into feature vectors"
   ]
  },
  {
   "cell_type": "code",
   "execution_count": 27,
   "id": "1ead62ed",
   "metadata": {},
   "outputs": [],
   "source": [
    "from sklearn.model_selection import train_test_split\n"
   ]
  },
  {
   "cell_type": "code",
   "execution_count": 28,
   "id": "202d95c9",
   "metadata": {},
   "outputs": [],
   "source": [
    "X_train, X_test, y_train, y_test = train_test_split(X, y, test_size=0.33, random_state=42)"
   ]
  },
  {
   "cell_type": "code",
   "execution_count": null,
   "id": "14bf6ff8",
   "metadata": {},
   "outputs": [],
   "source": []
  }
 ],
 "metadata": {
  "kernelspec": {
   "display_name": "cenv",
   "language": "python",
   "name": "python3"
  },
  "language_info": {
   "codemirror_mode": {
    "name": "ipython",
    "version": 3
   },
   "file_extension": ".py",
   "mimetype": "text/x-python",
   "name": "python",
   "nbconvert_exporter": "python",
   "pygments_lexer": "ipython3",
   "version": "3.13.7"
  }
 },
 "nbformat": 4,
 "nbformat_minor": 5
}
