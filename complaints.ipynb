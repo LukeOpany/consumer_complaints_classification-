{
 "cells": [
  {
   "cell_type": "code",
   "execution_count": 29,
   "id": "4d362b9d",
   "metadata": {},
   "outputs": [],
   "source": [
    "import matplotlib.pyplot as plt\n",
    "import pandas as pd\n",
    "import numpy as np\n",
    "import seaborn as sns\n",
    "%matplotlib inline"
   ]
  },
  {
   "cell_type": "code",
   "execution_count": 4,
   "id": "ed04fdb5",
   "metadata": {},
   "outputs": [],
   "source": [
    "data = pd.read_csv('/Users/lukeopany/Documents/consumer complaints/consumercomplaints.csv')"
   ]
  },
  {
   "cell_type": "code",
   "execution_count": 5,
   "id": "b74853b0",
   "metadata": {},
   "outputs": [
    {
     "name": "stdout",
     "output_type": "stream",
     "text": [
      "<class 'pandas.core.frame.DataFrame'>\n",
      "RangeIndex: 3101969 entries, 0 to 3101968\n",
      "Data columns (total 7 columns):\n",
      " #   Column                        Non-Null Count    Dtype \n",
      "---  ------                        --------------    ----- \n",
      " 0   Unnamed: 0                    3101969 non-null  int64 \n",
      " 1   Date received                 3101969 non-null  object\n",
      " 2   Product                       3101969 non-null  object\n",
      " 3   Sub-product                   2866675 non-null  object\n",
      " 4   Issue                         3101969 non-null  object\n",
      " 5   Sub-issue                     2418614 non-null  object\n",
      " 6   Consumer complaint narrative  1113992 non-null  object\n",
      "dtypes: int64(1), object(6)\n",
      "memory usage: 165.7+ MB\n"
     ]
    }
   ],
   "source": [
    "data.info(show_counts=True)"
   ]
  },
  {
   "cell_type": "code",
   "execution_count": 28,
   "id": "600b8f34",
   "metadata": {},
   "outputs": [
    {
     "data": {
      "text/html": [
       "<div>\n",
       "<style scoped>\n",
       "    .dataframe tbody tr th:only-of-type {\n",
       "        vertical-align: middle;\n",
       "    }\n",
       "\n",
       "    .dataframe tbody tr th {\n",
       "        vertical-align: top;\n",
       "    }\n",
       "\n",
       "    .dataframe thead th {\n",
       "        text-align: right;\n",
       "    }\n",
       "</style>\n",
       "<table border=\"1\" class=\"dataframe\">\n",
       "  <thead>\n",
       "    <tr style=\"text-align: right;\">\n",
       "      <th></th>\n",
       "      <th>Unnamed: 0</th>\n",
       "    </tr>\n",
       "  </thead>\n",
       "  <tbody>\n",
       "    <tr>\n",
       "      <th>count</th>\n",
       "      <td>8.878080e+05</td>\n",
       "    </tr>\n",
       "    <tr>\n",
       "      <th>mean</th>\n",
       "      <td>1.418925e+06</td>\n",
       "    </tr>\n",
       "    <tr>\n",
       "      <th>std</th>\n",
       "      <td>8.934593e+05</td>\n",
       "    </tr>\n",
       "    <tr>\n",
       "      <th>min</th>\n",
       "      <td>3.000000e+00</td>\n",
       "    </tr>\n",
       "    <tr>\n",
       "      <th>25%</th>\n",
       "      <td>6.524340e+05</td>\n",
       "    </tr>\n",
       "    <tr>\n",
       "      <th>50%</th>\n",
       "      <td>1.289806e+06</td>\n",
       "    </tr>\n",
       "    <tr>\n",
       "      <th>75%</th>\n",
       "      <td>2.193525e+06</td>\n",
       "    </tr>\n",
       "    <tr>\n",
       "      <th>max</th>\n",
       "      <td>3.101964e+06</td>\n",
       "    </tr>\n",
       "  </tbody>\n",
       "</table>\n",
       "</div>"
      ],
      "text/plain": [
       "         Unnamed: 0\n",
       "count  8.878080e+05\n",
       "mean   1.418925e+06\n",
       "std    8.934593e+05\n",
       "min    3.000000e+00\n",
       "25%    6.524340e+05\n",
       "50%    1.289806e+06\n",
       "75%    2.193525e+06\n",
       "max    3.101964e+06"
      ]
     },
     "execution_count": 28,
     "metadata": {},
     "output_type": "execute_result"
    }
   ],
   "source": [
    "data.describe()"
   ]
  },
  {
   "cell_type": "code",
   "execution_count": 6,
   "id": "26cdcda0",
   "metadata": {},
   "outputs": [
    {
     "name": "stdout",
     "output_type": "stream",
     "text": [
      "Shape of duplicates: (0, 7)\n"
     ]
    }
   ],
   "source": [
    "duplicates = data[data.duplicated()]\n",
    "print(f\"Shape of duplicates: {duplicates.shape}\")\n",
    "if len(duplicates) > 0:\n",
    "    display(duplicates.head())"
   ]
  },
  {
   "cell_type": "code",
   "execution_count": null,
   "id": "916f6356",
   "metadata": {},
   "outputs": [],
   "source": [
    "#Dropped the Unnamed: 0 column as it is not needed\n",
    "data = data.drop('Unnamed: 0', axis=1)"
   ]
  },
  {
   "cell_type": "code",
   "execution_count": 19,
   "id": "f314b92a",
   "metadata": {},
   "outputs": [
    {
     "data": {
      "text/html": [
       "<div>\n",
       "<style scoped>\n",
       "    .dataframe tbody tr th:only-of-type {\n",
       "        vertical-align: middle;\n",
       "    }\n",
       "\n",
       "    .dataframe tbody tr th {\n",
       "        vertical-align: top;\n",
       "    }\n",
       "\n",
       "    .dataframe thead th {\n",
       "        text-align: right;\n",
       "    }\n",
       "</style>\n",
       "<table border=\"1\" class=\"dataframe\">\n",
       "  <thead>\n",
       "    <tr style=\"text-align: right;\">\n",
       "      <th></th>\n",
       "      <th>Date received</th>\n",
       "      <th>Product</th>\n",
       "      <th>Sub-product</th>\n",
       "      <th>Issue</th>\n",
       "      <th>Sub-issue</th>\n",
       "      <th>Consumer complaint narrative</th>\n",
       "    </tr>\n",
       "  </thead>\n",
       "  <tbody>\n",
       "    <tr>\n",
       "      <th>0</th>\n",
       "      <td>2022-11-11</td>\n",
       "      <td>Mortgage</td>\n",
       "      <td>Conventional home mortgage</td>\n",
       "      <td>Trouble during payment process</td>\n",
       "      <td>NaN</td>\n",
       "      <td>NaN</td>\n",
       "    </tr>\n",
       "    <tr>\n",
       "      <th>1</th>\n",
       "      <td>2022-11-23</td>\n",
       "      <td>Credit reporting, credit repair services, or o...</td>\n",
       "      <td>Credit reporting</td>\n",
       "      <td>Improper use of your report</td>\n",
       "      <td>Reporting company used your report improperly</td>\n",
       "      <td>NaN</td>\n",
       "    </tr>\n",
       "    <tr>\n",
       "      <th>2</th>\n",
       "      <td>2022-11-16</td>\n",
       "      <td>Mortgage</td>\n",
       "      <td>VA mortgage</td>\n",
       "      <td>Trouble during payment process</td>\n",
       "      <td>NaN</td>\n",
       "      <td>NaN</td>\n",
       "    </tr>\n",
       "    <tr>\n",
       "      <th>3</th>\n",
       "      <td>2022-11-15</td>\n",
       "      <td>Checking or savings account</td>\n",
       "      <td>Checking account</td>\n",
       "      <td>Managing an account</td>\n",
       "      <td>Fee problem</td>\n",
       "      <td>Hi, I have been banking with Wells Fargo for o...</td>\n",
       "    </tr>\n",
       "    <tr>\n",
       "      <th>4</th>\n",
       "      <td>2022-11-07</td>\n",
       "      <td>Mortgage</td>\n",
       "      <td>Other type of mortgage</td>\n",
       "      <td>Trouble during payment process</td>\n",
       "      <td>NaN</td>\n",
       "      <td>NaN</td>\n",
       "    </tr>\n",
       "  </tbody>\n",
       "</table>\n",
       "</div>"
      ],
      "text/plain": [
       "  Date received                                            Product  \\\n",
       "0    2022-11-11                                           Mortgage   \n",
       "1    2022-11-23  Credit reporting, credit repair services, or o...   \n",
       "2    2022-11-16                                           Mortgage   \n",
       "3    2022-11-15                        Checking or savings account   \n",
       "4    2022-11-07                                           Mortgage   \n",
       "\n",
       "                  Sub-product                           Issue  \\\n",
       "0  Conventional home mortgage  Trouble during payment process   \n",
       "1            Credit reporting     Improper use of your report   \n",
       "2                 VA mortgage  Trouble during payment process   \n",
       "3            Checking account             Managing an account   \n",
       "4      Other type of mortgage  Trouble during payment process   \n",
       "\n",
       "                                       Sub-issue  \\\n",
       "0                                            NaN   \n",
       "1  Reporting company used your report improperly   \n",
       "2                                            NaN   \n",
       "3                                    Fee problem   \n",
       "4                                            NaN   \n",
       "\n",
       "                        Consumer complaint narrative  \n",
       "0                                                NaN  \n",
       "1                                                NaN  \n",
       "2                                                NaN  \n",
       "3  Hi, I have been banking with Wells Fargo for o...  \n",
       "4                                                NaN  "
      ]
     },
     "execution_count": 19,
     "metadata": {},
     "output_type": "execute_result"
    }
   ],
   "source": [
    "data.head(5)"
   ]
  },
  {
   "cell_type": "code",
   "execution_count": 6,
   "id": "694ff695",
   "metadata": {},
   "outputs": [],
   "source": [
    "data = data.dropna()"
   ]
  },
  {
   "cell_type": "code",
   "execution_count": 15,
   "id": "790849ba",
   "metadata": {},
   "outputs": [
    {
     "name": "stdout",
     "output_type": "stream",
     "text": [
      "<class 'pandas.core.frame.DataFrame'>\n",
      "Index: 887808 entries, 3 to 3101964\n",
      "Data columns (total 7 columns):\n",
      " #   Column                        Non-Null Count   Dtype \n",
      "---  ------                        --------------   ----- \n",
      " 0   Unnamed: 0                    887808 non-null  int64 \n",
      " 1   Date received                 887808 non-null  object\n",
      " 2   Product                       887808 non-null  object\n",
      " 3   Sub-product                   887808 non-null  object\n",
      " 4   Issue                         887808 non-null  object\n",
      " 5   Sub-issue                     887808 non-null  object\n",
      " 6   Consumer complaint narrative  887808 non-null  object\n",
      "dtypes: int64(1), object(6)\n",
      "memory usage: 54.2+ MB\n"
     ]
    }
   ],
   "source": [
    "data.info()"
   ]
  },
  {
   "cell_type": "code",
   "execution_count": 27,
   "id": "7fbc6e01",
   "metadata": {},
   "outputs": [
    {
     "data": {
      "text/plain": [
       "Product\n",
       "Credit reporting, credit repair services, or other personal consumer reports    507582\n",
       "Debt collection                                                                 192045\n",
       "Credit card or prepaid card                                                      80410\n",
       "Checking or savings account                                                      54192\n",
       "Student loan                                                                     32697\n",
       "Vehicle loan or lease                                                            19874\n",
       "Payday loan, title loan, or personal loan                                         1008\n",
       "Name: count, dtype: int64"
      ]
     },
     "execution_count": 27,
     "metadata": {},
     "output_type": "execute_result"
    }
   ],
   "source": [
    "data['Product'].value_counts()"
   ]
  },
  {
   "cell_type": "code",
   "execution_count": null,
   "id": "cfd8f978",
   "metadata": {},
   "outputs": [
    {
     "data": {
      "text/html": [
       "<div>\n",
       "<style scoped>\n",
       "    .dataframe tbody tr th:only-of-type {\n",
       "        vertical-align: middle;\n",
       "    }\n",
       "\n",
       "    .dataframe tbody tr th {\n",
       "        vertical-align: top;\n",
       "    }\n",
       "\n",
       "    .dataframe thead th {\n",
       "        text-align: right;\n",
       "    }\n",
       "</style>\n",
       "<table border=\"1\" class=\"dataframe\">\n",
       "  <thead>\n",
       "    <tr style=\"text-align: right;\">\n",
       "      <th></th>\n",
       "      <th>Unnamed: 0</th>\n",
       "      <th>Date received</th>\n",
       "      <th>Product</th>\n",
       "      <th>Sub-product</th>\n",
       "      <th>Issue</th>\n",
       "      <th>Sub-issue</th>\n",
       "      <th>Consumer complaint narrative</th>\n",
       "    </tr>\n",
       "  </thead>\n",
       "  <tbody>\n",
       "    <tr>\n",
       "      <th>3</th>\n",
       "      <td>3</td>\n",
       "      <td>2022-11-15</td>\n",
       "      <td>Checking or savings account</td>\n",
       "      <td>Checking account</td>\n",
       "      <td>Managing an account</td>\n",
       "      <td>Fee problem</td>\n",
       "      <td>Hi, I have been banking with Wells Fargo for o...</td>\n",
       "    </tr>\n",
       "    <tr>\n",
       "      <th>11</th>\n",
       "      <td>11</td>\n",
       "      <td>2022-11-09</td>\n",
       "      <td>Debt collection</td>\n",
       "      <td>Other debt</td>\n",
       "      <td>False statements or representation</td>\n",
       "      <td>Indicated you were committing crime by not pay...</td>\n",
       "      <td>XXXX is attempting to collect funds for Valuat...</td>\n",
       "    </tr>\n",
       "    <tr>\n",
       "      <th>15</th>\n",
       "      <td>15</td>\n",
       "      <td>2022-11-14</td>\n",
       "      <td>Credit reporting, credit repair services, or o...</td>\n",
       "      <td>Credit reporting</td>\n",
       "      <td>Incorrect information on your report</td>\n",
       "      <td>Account information incorrect</td>\n",
       "      <td>Today I called to get my balance and reset my ...</td>\n",
       "    </tr>\n",
       "    <tr>\n",
       "      <th>51</th>\n",
       "      <td>51</td>\n",
       "      <td>2022-10-12</td>\n",
       "      <td>Credit reporting, credit repair services, or o...</td>\n",
       "      <td>Credit reporting</td>\n",
       "      <td>Problem with a credit reporting company's inve...</td>\n",
       "      <td>Their investigation did not fix an error on yo...</td>\n",
       "      <td>The Federal Trade Commission Bureau of Consume...</td>\n",
       "    </tr>\n",
       "    <tr>\n",
       "      <th>72</th>\n",
       "      <td>72</td>\n",
       "      <td>2022-10-09</td>\n",
       "      <td>Credit reporting, credit repair services, or o...</td>\n",
       "      <td>Credit reporting</td>\n",
       "      <td>Problem with a credit reporting company's inve...</td>\n",
       "      <td>Difficulty submitting a dispute or getting inf...</td>\n",
       "      <td>Ive mailed police report called been hung up o...</td>\n",
       "    </tr>\n",
       "  </tbody>\n",
       "</table>\n",
       "</div>"
      ],
      "text/plain": [
       "    Unnamed: 0 Date received  \\\n",
       "3            3    2022-11-15   \n",
       "11          11    2022-11-09   \n",
       "15          15    2022-11-14   \n",
       "51          51    2022-10-12   \n",
       "72          72    2022-10-09   \n",
       "\n",
       "                                              Product       Sub-product  \\\n",
       "3                         Checking or savings account  Checking account   \n",
       "11                                    Debt collection        Other debt   \n",
       "15  Credit reporting, credit repair services, or o...  Credit reporting   \n",
       "51  Credit reporting, credit repair services, or o...  Credit reporting   \n",
       "72  Credit reporting, credit repair services, or o...  Credit reporting   \n",
       "\n",
       "                                                Issue  \\\n",
       "3                                 Managing an account   \n",
       "11                 False statements or representation   \n",
       "15               Incorrect information on your report   \n",
       "51  Problem with a credit reporting company's inve...   \n",
       "72  Problem with a credit reporting company's inve...   \n",
       "\n",
       "                                            Sub-issue  \\\n",
       "3                                         Fee problem   \n",
       "11  Indicated you were committing crime by not pay...   \n",
       "15                      Account information incorrect   \n",
       "51  Their investigation did not fix an error on yo...   \n",
       "72  Difficulty submitting a dispute or getting inf...   \n",
       "\n",
       "                         Consumer complaint narrative  \n",
       "3   Hi, I have been banking with Wells Fargo for o...  \n",
       "11  XXXX is attempting to collect funds for Valuat...  \n",
       "15  Today I called to get my balance and reset my ...  \n",
       "51  The Federal Trade Commission Bureau of Consume...  \n",
       "72  Ive mailed police report called been hung up o...  "
      ]
     },
     "execution_count": 30,
     "metadata": {},
     "output_type": "execute_result"
    }
   ],
   "source": [
    "data.head(5)"
   ]
  },
  {
   "cell_type": "code",
   "execution_count": null,
   "id": "fbdab307",
   "metadata": {},
   "outputs": [],
   "source": []
  },
  {
   "cell_type": "code",
   "execution_count": null,
   "id": "03317ac7",
   "metadata": {},
   "outputs": [],
   "source": []
  },
  {
   "cell_type": "code",
   "execution_count": null,
   "id": "765bfd7f",
   "metadata": {},
   "outputs": [],
   "source": []
  }
 ],
 "metadata": {
  "kernelspec": {
   "display_name": "cenv",
   "language": "python",
   "name": "python3"
  },
  "language_info": {
   "codemirror_mode": {
    "name": "ipython",
    "version": 3
   },
   "file_extension": ".py",
   "mimetype": "text/x-python",
   "name": "python",
   "nbconvert_exporter": "python",
   "pygments_lexer": "ipython3",
   "version": "3.13.7"
  }
 },
 "nbformat": 4,
 "nbformat_minor": 5
}
